{
 "cells": [
  {
   "cell_type": "code",
   "execution_count": null,
   "metadata": {},
   "outputs": [],
   "source": [
    "import pandas as pd\n",
    "import scipy as sp\n",
    "from connectome_interpreter import *"
   ]
  },
  {
   "cell_type": "markdown",
   "metadata": {},
   "source": [
    "### Test notebook with examples on how to use the external_map.hex_heatmap() function. "
   ]
  },
  {
   "cell_type": "markdown",
   "metadata": {},
   "source": [
    "While the column data is not currently saved with the meta data, load a csv with the individual bodyIds from 15 columnar cell types within the medulla assigned to individual columns. Assignment data from Nern et al. 2024."
   ]
  },
  {
   "cell_type": "code",
   "execution_count": null,
   "metadata": {},
   "outputs": [],
   "source": [
    "cols = pd.read_csv('https://raw.githubusercontent.com/YijieYin/connectome_interpreter/refs/heads/main/connectome_interpreter/data/Nern2024/ME-columnar-cells-hex-location.csv')\n",
    "cols[\"coords\"] = cols[\"x\"].astype(str) + \",\" + cols[\"y\"].astype(str)\n",
    "# make longer, remove columns hex1_id, hex2_id, x, y\n",
    "cols = cols[\n",
    "    [\n",
    "        \"L1\",\n",
    "        \"L2\",\n",
    "        \"L3\",\n",
    "        \"L5\",\n",
    "        \"Mi1\",\n",
    "        \"Mi4\",\n",
    "        \"Mi9\",\n",
    "        \"C2\",\n",
    "        \"C3\",\n",
    "        \"Tm1\",\n",
    "        \"Tm2\",\n",
    "        \"Tm4\",\n",
    "        \"Tm9\",\n",
    "        \"Tm20\",\n",
    "        \"T1\",\n",
    "        'coords'\n",
    "    ]\n",
    "].melt(id_vars=[\"coords\"], var_name=\"cell_type\", value_name=\"bodyId\")\n",
    "cols = cols[~cols.bodyId.isna()]\n",
    "cols['bodyId'] = cols['bodyId'].astype(int)"
   ]
  },
  {
   "cell_type": "code",
   "execution_count": null,
   "metadata": {},
   "outputs": [],
   "source": [
    "# map from bodyid to coordinates\n",
    "bodyid_to_coords = cols.set_index('bodyId')['coords'].to_dict()"
   ]
  },
  {
   "cell_type": "markdown",
   "metadata": {},
   "source": [
    "Add the column information for individual bodyIds from these 15 cell types to the meta data associated with the optic lobe connectome data set."
   ]
  },
  {
   "cell_type": "code",
   "execution_count": null,
   "metadata": {},
   "outputs": [],
   "source": [
    "meta = pd.read_csv('../../interpret_connectome/data/neuprint_meta_optic.csv')\n",
    "\n",
    "meta['coords'] = meta.bodyId.map(bodyid_to_coords)\n",
    "\n",
    "# make dictionaries to map from index to groups\n",
    "idx_to_coords = meta.set_index('idx')['coords'].to_dict()\n",
    "idx_to_type = meta.set_index('idx')['cell_type'].to_dict()\n",
    "idx_to_root = meta.set_index('idx')['bodyId'].to_dict()"
   ]
  },
  {
   "cell_type": "code",
   "execution_count": null,
   "metadata": {},
   "outputs": [],
   "source": [
    "inprop = sp.sparse.load_npz('../../interpret_connectome/data/neuprint_inprop_optic.npz')"
   ]
  },
  {
   "cell_type": "code",
   "execution_count": null,
   "metadata": {},
   "outputs": [],
   "source": [
    "# Set the target cell type\n",
    "target_cell_type = 'Tm3'\n",
    "outidx = meta.idx[meta.cell_type == target_cell_type]"
   ]
  },
  {
   "cell_type": "code",
   "execution_count": null,
   "metadata": {},
   "outputs": [],
   "source": [
    "# Set the upstream cell type for which you would like to plot the spatial location of the cells of this type that innervate the target cell type.\n",
    "upstream_cell_type = 'Mi1'\n",
    "inidx = meta.idx[meta.cell_type == upstream_cell_type]"
   ]
  },
  {
   "cell_type": "markdown",
   "metadata": {},
   "source": [
    "### Plot the columns that contain Mi1 neurons that directly innervate a single Tm3 cell (bodyId = 100143)"
   ]
  },
  {
   "cell_type": "code",
   "execution_count": null,
   "metadata": {},
   "outputs": [],
   "source": [
    "# Get the direct connectivity data frame from L1 neurons to single Tm3 cells.\n",
    "# Data frame rows = medulla columns and data frame columns = individual Tm3 bodyIds.\n",
    "df_per_cell = result_summary(inprop, inidx, outidx, idx_to_coords, idx_to_root,\n",
    "                    display_threshold=1e-4)"
   ]
  },
  {
   "cell_type": "code",
   "execution_count": null,
   "metadata": {},
   "outputs": [],
   "source": [
    "# bid = 0 # individual cell of choice. Refers to column in 'df_per_cell'\n",
    "# df_to_plot = df_per_cell.iloc[:, bid]\n",
    "\n",
    "# bid = \"100143\"\n",
    "bid = \"101077\"\n",
    "df_to_plot = df_per_cell[bid]\n",
    "\n",
    "fig = hex_heatmap(df_to_plot, sizing=None, style=None)\n",
    "fig.show()"
   ]
  },
  {
   "cell_type": "markdown",
   "metadata": {},
   "source": [
    "### Plot the columns that contain Mi1 neurons that directly innervate any Tm3 cell."
   ]
  },
  {
   "cell_type": "code",
   "execution_count": null,
   "metadata": {},
   "outputs": [],
   "source": [
    "df_type = result_summary(inprop, inidx, outidx, idx_to_coords, idx_to_type,\n",
    "                    display_threshold=1e-4)"
   ]
  },
  {
   "cell_type": "code",
   "execution_count": null,
   "metadata": {},
   "outputs": [],
   "source": [
    "print('Mi1 to Tm3 - direct')\n",
    "df_to_plot = df_type[target_cell_type]\n",
    "fig = hex_heatmap(df_to_plot, sizing=None, style=None)\n",
    "fig.show()"
   ]
  },
  {
   "cell_type": "code",
   "execution_count": null,
   "metadata": {},
   "outputs": [],
   "source": [
    "# %%capture\n",
    "# first download the precomputed connectivity\n",
    "!gdown --folder 1dqICZerhL4cvBHknhu7SAonKJQOBdqd9"
   ]
  },
  {
   "cell_type": "markdown",
   "metadata": {},
   "source": [
    "### Plot the columns that contain Mi1 neurons that indirectly innervate a single Tm3 cell (bodyId = 100143)"
   ]
  },
  {
   "cell_type": "code",
   "execution_count": null,
   "metadata": {},
   "outputs": [],
   "source": [
    "# then load it\n",
    "# steps_cpu is a list of matrices. The first one is direct connectivity, the second is one hop etc.\n",
    "steps_cpu = read_precomputed('maleCNS_neuprint_optic_neuron')\n",
    "# this is the sum of all matrices in steps_cpu\n",
    "\n",
    "stepsn = add_first_n_matrices(steps_cpu, len(steps_cpu))"
   ]
  },
  {
   "cell_type": "code",
   "execution_count": null,
   "metadata": {},
   "outputs": [],
   "source": [
    "df_indirect_per_cell = result_summary(stepsn, inidx, outidx, idx_to_coords, idx_to_root,\n",
    "                    display_threshold=1e-3)"
   ]
  },
  {
   "cell_type": "code",
   "execution_count": null,
   "metadata": {},
   "outputs": [],
   "source": [
    "df_to_plot = df_indirect_per_cell[bid]\n",
    "fig = hex_heatmap(df_to_plot, sizing=None, style=None)\n",
    "fig.show()"
   ]
  },
  {
   "cell_type": "code",
   "execution_count": null,
   "metadata": {},
   "outputs": [],
   "source": [
    "df_type_indirect = result_summary(stepsn, inidx, outidx, idx_to_coords, idx_to_type,\n",
    "                    display_threshold=1e-4)"
   ]
  },
  {
   "cell_type": "code",
   "execution_count": null,
   "metadata": {},
   "outputs": [],
   "source": [
    "print('Mi1 to Tm3 - indirect')\n",
    "df_to_plot = df_type_indirect[target_cell_type]\n",
    "fig = hex_heatmap(df_to_plot, sizing=None, style=None)\n",
    "fig.show()"
   ]
  },
  {
   "cell_type": "code",
   "execution_count": null,
   "metadata": {},
   "outputs": [],
   "source": []
  }
 ],
 "metadata": {
  "kernelspec": {
   "display_name": "venv",
   "language": "python",
   "name": "python3"
  },
  "language_info": {
   "codemirror_mode": {
    "name": "ipython",
    "version": 3
   },
   "file_extension": ".py",
   "mimetype": "text/x-python",
   "name": "python",
   "nbconvert_exporter": "python",
   "pygments_lexer": "ipython3",
   "version": "3.11.6"
  }
 },
 "nbformat": 4,
 "nbformat_minor": 2
}
