{
 "cells": [
  {
   "cell_type": "code",
   "execution_count": null,
   "metadata": {},
   "outputs": [],
   "source": [
    "# !pip install connectome-interpreter --no-deps"
   ]
  },
  {
   "cell_type": "code",
   "execution_count": null,
   "metadata": {},
   "outputs": [],
   "source": [
    "import pandas as pd\n",
    "import scipy as sp\n",
    "from connectome_interpreter import *\n",
    "import plotly.graph_objects as go\n",
    "import numpy as np"
   ]
  },
  {
   "cell_type": "code",
   "execution_count": null,
   "metadata": {},
   "outputs": [],
   "source": [
    "cols = pd.read_csv('https://raw.githubusercontent.com/YijieYin/connectome_interpreter/refs/heads/main/connectome_interpreter/data/Nern2024/ME-columnar-cells-hex-location.csv')\n",
    "cols[\"coords\"] = cols[\"x\"].astype(str) + \",\" + cols[\"y\"].astype(str)\n",
    "# make longer, remove columns hex1_id, hex2_id, x, y\n",
    "cols = cols[\n",
    "    [\n",
    "        \"L1\",\n",
    "        \"L2\",\n",
    "        \"L3\",\n",
    "        \"L5\",\n",
    "        \"Mi1\",\n",
    "        \"Mi4\",\n",
    "        \"Mi9\",\n",
    "        \"C2\",\n",
    "        \"C3\",\n",
    "        \"Tm1\",\n",
    "        \"Tm2\",\n",
    "        \"Tm4\",\n",
    "        \"Tm9\",\n",
    "        \"Tm20\",\n",
    "        \"T1\",\n",
    "        'coords'\n",
    "    ]\n",
    "].melt(id_vars=[\"coords\"], var_name=\"cell_type\", value_name=\"bodyId\")\n",
    "cols = cols[~cols.bodyId.isna()]\n",
    "cols['bodyId'] = cols['bodyId'].astype(int)\n",
    "cols"
   ]
  },
  {
   "cell_type": "code",
   "execution_count": null,
   "metadata": {},
   "outputs": [],
   "source": [
    "# map from bodyid to coordinates\n",
    "bodyid_to_coords = cols.set_index('bodyId')['coords'].to_dict()"
   ]
  },
  {
   "cell_type": "code",
   "execution_count": null,
   "metadata": {},
   "outputs": [],
   "source": [
    "meta = pd.read_csv('/Users/burnettl/Documents/GitHub/interpret_connectome/data/neuprint_meta_optic.csv')\n",
    "\n",
    "meta['coords'] = meta.bodyId.map(bodyid_to_coords)\n",
    "\n",
    "# make dictionaries to map from index to groups\n",
    "idx_to_coords = meta.set_index('idx')['coords'].to_dict()\n",
    "idx_to_type = meta.set_index('idx')['cell_type'].to_dict()\n",
    "idx_to_root = meta.set_index('idx')['bodyId'].to_dict()"
   ]
  },
  {
   "cell_type": "code",
   "execution_count": null,
   "metadata": {},
   "outputs": [],
   "source": [
    "inprop = sp.sparse.load_npz('/Users/burnettl/Documents/GitHub/interpret_connectome/data/neuprint_inprop_optic.npz')"
   ]
  },
  {
   "cell_type": "code",
   "execution_count": null,
   "metadata": {},
   "outputs": [],
   "source": [
    "inidx = meta.idx[meta.cell_type == 'L1']\n",
    "outidx = meta.idx\n",
    "\n",
    "df = result_summary(inprop, inidx, outidx, idx_to_type, idx_to_type,\n",
    "                    sort_within = 'row', threshold_axis = 'column',\n",
    "                    # display_threshold=0\n",
    "                    )"
   ]
  },
  {
   "cell_type": "code",
   "execution_count": null,
   "metadata": {},
   "outputs": [],
   "source": [
    "inidx = meta.idx[meta.cell_type == 'L1']\n",
    "outidx = meta.idx[meta.cell_type == 'Tm3']\n",
    "\n",
    "df = result_summary(inprop, inidx, outidx, idx_to_coords, idx_to_root,\n",
    "                    display_threshold=1e-4)"
   ]
  },
  {
   "cell_type": "code",
   "execution_count": null,
   "metadata": {},
   "outputs": [],
   "source": [
    "df_to_plot = df.iloc[:, 0]\n",
    "df_to_plot"
   ]
  },
  {
   "cell_type": "code",
   "execution_count": null,
   "metadata": {},
   "outputs": [],
   "source": [
    "def hex_plot_from_series(\n",
    "    df:pd.Series\n",
    "    , style:dict=None\n",
    "    , sizing:dict=None\n",
    ") -> go.Figure:\n",
    "    \"\"\"\n",
    "    Generate a hexagonal heat map plot of a data frame column value per ROI column in the right medulla.\n",
    "\n",
    "    Parameters\n",
    "    ----------\n",
    "    df : pd.Series\n",
    "        A Series where the index is formatted as 'x,y' coordinates and values represent data to plot.\n",
    "    style : dict, default=None\n",
    "        Dict containing styling formatting variables.\n",
    "    sizing : dict, default=None\n",
    "        Dict containing size formatting variables.\n",
    "\n",
    "    Returns\n",
    "    -------\n",
    "    fig : go.Figure\n",
    "    \"\"\"\n",
    "    # Default styling and sizing parameters to use if not specified.\n",
    "    if style is None:\n",
    "        style = {\n",
    "            \"font_type\": \"arial\",\n",
    "            \"markerlinecolor\": \"rgba(0,0,0,0)\", #transparent\n",
    "            \"linecolor\": \"black\",\n",
    "            \"papercolor\": \"rgba(255,255,255,255)\"\n",
    "        }\n",
    "\n",
    "    if sizing is None:\n",
    "        sizing = {\n",
    "            \"fig_width\": 250,  # units = mm, max 180\n",
    "            \"fig_height\": 210,  # units = mm, max 170\n",
    "            \"fig_margin\": 0,\n",
    "            \"fsize_ticks_pt\": 20,\n",
    "            \"fsize_title_pt\": 20,\n",
    "            \"markersize\": 18,\n",
    "            \"ticklen\": 15,\n",
    "            \"tickwidth\": 5,\n",
    "            \"axislinewidth\": 3,\n",
    "            \"markerlinewidth\": 0.9,\n",
    "            \"cbar_thickness\": 20,\n",
    "            \"cbar_len\": 0.75,\n",
    "        }\n",
    "\n",
    "    # sizing of the figure and font\n",
    "    pixelsperinch = 72 # for svg and pdf\n",
    "    pixelspermm = pixelsperinch / 25.4\n",
    "    area_width = (sizing[\"fig_width\"] - sizing[\"fig_margin\"]) * pixelspermm\n",
    "    area_height = (sizing[\"fig_height\"] - sizing[\"fig_margin\"]) * pixelspermm\n",
    "    fsize_ticks_px = sizing[\"fsize_ticks_pt\"] * (1 / 72) * pixelsperinch\n",
    "    fsize_title_px = sizing[\"fsize_title_pt\"] * (1 / 72) * pixelsperinch\n",
    "\n",
    "    # Convert index values (formatted as '-12,34') into separate x and y coordinates\n",
    "    coords = [tuple(map(int, idx.split(\",\"))) for idx in df.index]\n",
    "    x_vals, y_vals = zip(*coords)  # Separate into x and y lists\n",
    "\n",
    "    # initiate plot\n",
    "    fig = go.Figure()\n",
    "    fig.update_layout(\n",
    "        autosize=False\n",
    "      , height=area_height\n",
    "      , width=area_width\n",
    "      , margin={\"l\": 0, \"r\": 0, \"b\": 0, \"t\": 0, \"pad\": 0}\n",
    "      , paper_bgcolor=style[\"papercolor\"]\n",
    "      , plot_bgcolor=style[\"papercolor\"]\n",
    "    )\n",
    "    fig.update_xaxes(\n",
    "        showgrid=False, showticklabels=False, showline=False, visible=False\n",
    "    )\n",
    "    fig.update_yaxes(\n",
    "        showgrid=False, showticklabels=False, showline=False, visible=False\n",
    "    )\n",
    "    # Symbol number to choose to plot hexagons\n",
    "    symbol_number = 15\n",
    "\n",
    "    # Get the coordinates of all columns in the medulla:\n",
    "    col_coords = pd.read_csv(\"/Users/burnettl/Documents/GitHub/connectome_interpreter/connectome_interpreter/data/Nern2024/ME-column-coords.csv\")\n",
    "    \n",
    "    # Add empty white 'background' hexagons - all neuropils\n",
    "    fig.add_trace(\n",
    "        go.Scatter(\n",
    "            x=col_coords[\"x\"]\n",
    "          , y=col_coords[\"y\"]\n",
    "          , mode=\"markers\"\n",
    "          , marker_symbol=symbol_number\n",
    "          , marker={\n",
    "                \"size\": sizing[\"markersize\"]\n",
    "              , \"color\": \"white\"\n",
    "              , \"line\": {\"width\": sizing[\"markerlinewidth\"], \"color\": \"lightgrey\"}\n",
    "            }\n",
    "          , showlegend=False\n",
    "        )\n",
    "    )\n",
    "\n",
    "    # Add data\n",
    "    fig.add_trace(\n",
    "        go.Scatter(\n",
    "            x=x_vals\n",
    "          , y=y_vals\n",
    "          , mode=\"markers\"\n",
    "          , marker_symbol=symbol_number\n",
    "          , marker={\n",
    "              \"cmin\": 0.1\n",
    "              , \"cmax\": df.values.max()\n",
    "              , \"size\": sizing[\"markersize\"]\n",
    "              , \"color\": df.values\n",
    "              , \"line\": {\n",
    "                    \"width\": sizing[\"markerlinewidth\"]\n",
    "                  , \"color\": style[\"markerlinecolor\"]\n",
    "                }\n",
    "              , \"colorbar\": {\n",
    "                    \"orientation\": \"v\"\n",
    "                  , \"outlinecolor\": style[\"linecolor\"]\n",
    "                  , \"outlinewidth\": sizing[\"axislinewidth\"]\n",
    "                  , \"thickness\": sizing[\"cbar_thickness\"]\n",
    "                  , \"len\": sizing[\"cbar_len\"]\n",
    "                  , \"tickmode\": \"array\"\n",
    "                  , \"ticklen\": sizing[\"ticklen\"]\n",
    "                  , \"tickwidth\": sizing[\"tickwidth\"]\n",
    "                  , \"tickcolor\": style[\"linecolor\"]\n",
    "                  , \"tickfont\": {\n",
    "                        \"size\": fsize_ticks_px\n",
    "                      , \"family\": style[\"font_type\"]\n",
    "                      , \"color\": style[\"linecolor\"]\n",
    "                    }\n",
    "                  , \"title\": {\n",
    "                        \"font\": {\n",
    "                            \"family\": style[\"font_type\"]\n",
    "                          , \"size\": fsize_title_px\n",
    "                          , \"color\": style[\"linecolor\"]\n",
    "                        }\n",
    "                      , \"side\": \"right\"\n",
    "                    }\n",
    "                }\n",
    "              , \"colorscale\": 'blues'\n",
    "            }\n",
    "          , showlegend=False\n",
    "        )\n",
    "    )\n",
    "\n",
    "    return fig"
   ]
  },
  {
   "cell_type": "markdown",
   "metadata": {},
   "source": [
    "### Example use case 1 - columnar position of L1 cells that directly give input to a single Tm3 cell (bodyId = 100143)"
   ]
  },
  {
   "cell_type": "code",
   "execution_count": null,
   "metadata": {},
   "outputs": [],
   "source": [
    "fig = hex_plot_from_series(df_to_plot, sizing=None, style=None)\n",
    "fig.show()"
   ]
  },
  {
   "cell_type": "markdown",
   "metadata": {},
   "source": [
    "### Example use case 2 - columnar position of L1 cells that directly give input to all of the Tm3 cells.\n"
   ]
  },
  {
   "cell_type": "code",
   "execution_count": null,
   "metadata": {},
   "outputs": [],
   "source": [
    "df_to_plot_all_cells = df.mean(axis=1)\n",
    "df_to_plot_all_cells"
   ]
  },
  {
   "cell_type": "code",
   "execution_count": null,
   "metadata": {},
   "outputs": [],
   "source": [
    "fig = hex_plot_from_series(df_to_plot_all_cells, sizing=None, style=None)\n",
    "fig.show()\n",
    "# mean "
   ]
  },
  {
   "cell_type": "code",
   "execution_count": null,
   "metadata": {},
   "outputs": [],
   "source": [
    "fig = hex_plot_from_series(df_to_plot_all_cells, sizing=None, style=None)\n",
    "fig.show()\n",
    "# sum"
   ]
  },
  {
   "cell_type": "code",
   "execution_count": null,
   "metadata": {},
   "outputs": [],
   "source": [
    "# 3 - Would also want to plot for a single Tm3 cell the columns that it recevies input from from all of the columnar types."
   ]
  },
  {
   "cell_type": "code",
   "execution_count": null,
   "metadata": {},
   "outputs": [],
   "source": []
  }
 ],
 "metadata": {
  "kernelspec": {
   "display_name": "venv",
   "language": "python",
   "name": "python3"
  },
  "language_info": {
   "codemirror_mode": {
    "name": "ipython",
    "version": 3
   },
   "file_extension": ".py",
   "mimetype": "text/x-python",
   "name": "python",
   "nbconvert_exporter": "python",
   "pygments_lexer": "ipython3",
   "version": "3.11.6"
  }
 },
 "nbformat": 4,
 "nbformat_minor": 2
}
