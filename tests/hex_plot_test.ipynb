{
 "cells": [
  {
   "cell_type": "code",
   "execution_count": null,
   "metadata": {},
   "outputs": [],
   "source": [
    "# !pip install connectome-interpreter --no-deps"
   ]
  },
  {
   "cell_type": "code",
   "execution_count": null,
   "metadata": {},
   "outputs": [],
   "source": [
    "import pandas as pd\n",
    "import scipy as sp\n",
    "from connectome_interpreter import *"
   ]
  },
  {
   "cell_type": "code",
   "execution_count": null,
   "metadata": {},
   "outputs": [],
   "source": [
    "cols = pd.read_csv('https://raw.githubusercontent.com/YijieYin/connectome_interpreter/refs/heads/main/connectome_interpreter/data/Nern2024/ME-columnar-cells-hex-location.csv')\n",
    "cols[\"coords\"] = cols[\"x\"].astype(str) + \",\" + cols[\"y\"].astype(str)\n",
    "# make longer, remove columns hex1_id, hex2_id, x, y\n",
    "cols = cols[\n",
    "    [\n",
    "        \"L1\",\n",
    "        \"L2\",\n",
    "        \"L3\",\n",
    "        \"L5\",\n",
    "        \"Mi1\",\n",
    "        \"Mi4\",\n",
    "        \"Mi9\",\n",
    "        \"C2\",\n",
    "        \"C3\",\n",
    "        \"Tm1\",\n",
    "        \"Tm2\",\n",
    "        \"Tm4\",\n",
    "        \"Tm9\",\n",
    "        \"Tm20\",\n",
    "        \"T1\",\n",
    "        'coords'\n",
    "    ]\n",
    "].melt(id_vars=[\"coords\"], var_name=\"cell_type\", value_name=\"bodyId\")\n",
    "cols = cols[~cols.bodyId.isna()]\n",
    "cols['bodyId'] = cols['bodyId'].astype(int)\n",
    "cols"
   ]
  },
  {
   "cell_type": "code",
   "execution_count": null,
   "metadata": {},
   "outputs": [],
   "source": [
    "# map from bodyid to coordinates\n",
    "bodyid_to_coords = cols.set_index('bodyId')['coords'].to_dict()"
   ]
  },
  {
   "cell_type": "code",
   "execution_count": null,
   "metadata": {},
   "outputs": [],
   "source": [
    "meta = pd.read_csv('/Users/burnettl/Documents/GitHub/interpret_connectome/data/neuprint_meta_optic.csv')\n",
    "\n",
    "meta['coords'] = meta.bodyId.map(bodyid_to_coords)\n",
    "\n",
    "# make dictionaries to map from index to groups\n",
    "idx_to_coords = meta.set_index('idx')['coords'].to_dict()\n",
    "idx_to_type = meta.set_index('idx')['cell_type'].to_dict()\n",
    "idx_to_root = meta.set_index('idx')['bodyId'].to_dict()"
   ]
  },
  {
   "cell_type": "code",
   "execution_count": null,
   "metadata": {},
   "outputs": [],
   "source": [
    "inprop = sp.sparse.load_npz('/Users/burnettl/Documents/GitHub/interpret_connectome/data/neuprint_inprop_optic.npz')\n",
    "inprop"
   ]
  },
  {
   "cell_type": "code",
   "execution_count": null,
   "metadata": {},
   "outputs": [],
   "source": [
    "meta.idx"
   ]
  },
  {
   "cell_type": "code",
   "execution_count": null,
   "metadata": {},
   "outputs": [],
   "source": [
    "inidx = meta.idx[meta.cell_type == 'L1']\n",
    "outidx = meta.idx\n",
    "\n",
    "df = result_summary(inprop, inidx, outidx, idx_to_type, idx_to_type,\n",
    "                    sort_within = 'row', threshold_axis = 'column',\n",
    "                    # display_threshold=0\n",
    "                    )"
   ]
  },
  {
   "cell_type": "code",
   "execution_count": null,
   "metadata": {},
   "outputs": [],
   "source": [
    "inidx = meta.idx[meta.cell_type == 'L1']\n",
    "outidx = meta.idx[meta.cell_type == 'Tm3']\n",
    "\n",
    "df = result_summary(inprop, inidx, outidx, idx_to_coords, idx_to_root,\n",
    "                    display_threshold=1e-4)"
   ]
  },
  {
   "cell_type": "code",
   "execution_count": null,
   "metadata": {},
   "outputs": [],
   "source": [
    "df_to_plot = df['100143']\n",
    "df_to_plot"
   ]
  },
  {
   "cell_type": "code",
   "execution_count": null,
   "metadata": {},
   "outputs": [],
   "source": [
    "type(df_to_plot.values)"
   ]
  },
  {
   "cell_type": "code",
   "execution_count": null,
   "metadata": {},
   "outputs": [],
   "source": [
    "# 1 - Plot the results for a single column - i.e. spatial inputs from L1 for one individual Tm3 cell."
   ]
  },
  {
   "cell_type": "code",
   "execution_count": null,
   "metadata": {},
   "outputs": [],
   "source": [
    "# 2 - Plot the columns that all Tm3 cells receive input from."
   ]
  },
  {
   "cell_type": "code",
   "execution_count": null,
   "metadata": {},
   "outputs": [],
   "source": [
    "# 3 - Would also want to plot for a single Tm3 cell the columns that it recevies input from from all of the columnar types."
   ]
  },
  {
   "cell_type": "code",
   "execution_count": null,
   "metadata": {},
   "outputs": [],
   "source": [
    "import plotly.graph_objects as go\n",
    "import numpy as np"
   ]
  },
  {
   "cell_type": "code",
   "execution_count": null,
   "metadata": {},
   "outputs": [],
   "source": [
    "# For this version of the function - the index of the data frame has the coordinates. \n",
    "\n",
    "def hex_plot_from_series(\n",
    "    df:pd.Series\n",
    "    , style:dict=None\n",
    "    , sizing:dict=None\n",
    ") -> go.Figure:\n",
    "    \"\"\"\n",
    "    Generate a hexagonal heat map plot of a data frame column value per ROI column in the right medulla.\n",
    "\n",
    "    Parameters\n",
    "    ----------\n",
    "    df : pd.Series\n",
    "        A Series where the index is formatted as 'x,y' coordinates and values represent data to plot.\n",
    "    style : dict, default=None\n",
    "        Dict containing styling formatting variables.\n",
    "    sizing : dict, default=None\n",
    "        Dict containing size formatting variables.\n",
    "\n",
    "    Returns\n",
    "    -------\n",
    "    fig : go.Figure\n",
    "    \"\"\"\n",
    "    # Use Series name if available, otherwise assign default\n",
    "    col_name = df.name if df.name else \"data\"\n",
    "\n",
    "    # Default styling and sizing parameters to use if not specified.\n",
    "    if style is None:\n",
    "        style = {\n",
    "            \"font_type\": \"arial\",\n",
    "            \"markerlinecolor\": \"rgba(0,0,0,0)\", #transparent\n",
    "            \"linecolor\": \"black\",\n",
    "            \"papercolor\": \"rgba(255,255,255,255)\"\n",
    "        }\n",
    "    if sizing is None:\n",
    "        sizing = {\n",
    "            \"fig_width\": 750,  # units = mm, max 180\n",
    "            \"fig_height\": 210,  # units = mm, max 170\n",
    "            \"fig_margin\": 0,\n",
    "            \"fsize_ticks_pt\": 35,\n",
    "            \"fsize_title_pt\": 35,\n",
    "            \"markersize\": 21,\n",
    "            \"ticklen\": 15,\n",
    "            \"tickwidth\": 5,\n",
    "            \"axislinewidth\": 4,\n",
    "            \"markerlinewidth\": 0.9,\n",
    "            \"cbar_thickness\": 30,\n",
    "            \"cbar_len\": 0.75,\n",
    "        }\n",
    "    # sizing of the figure and font\n",
    "    pixelsperinch = 72 # for svg and pdf\n",
    "    pixelspermm = pixelsperinch / 25.4\n",
    "    area_width = (sizing[\"fig_width\"] - sizing[\"fig_margin\"]) * pixelspermm\n",
    "    area_height = (sizing[\"fig_height\"] - sizing[\"fig_margin\"]) * pixelspermm\n",
    "    fsize_ticks_px = sizing[\"fsize_ticks_pt\"] * (1 / 72) * pixelsperinch\n",
    "    fsize_title_px = sizing[\"fsize_title_pt\"] * (1 / 72) * pixelsperinch\n",
    "\n",
    "    # Convert index values (formatted as '-12,34') into separate x and y coordinates\n",
    "    coords = [tuple(map(int, idx.split(\",\"))) for idx in df.index]\n",
    "    x_vals, y_vals = zip(*coords)  # Separate into x and y lists\n",
    "\n",
    "    # initiate plot\n",
    "    fig = go.Figure()\n",
    "    fig.update_layout(\n",
    "        autosize=False\n",
    "      , height=area_height\n",
    "      , width=area_width\n",
    "      , margin={\"l\": 0, \"r\": 0, \"b\": 0, \"t\": 0, \"pad\": 0}\n",
    "      , paper_bgcolor=style[\"papercolor\"]\n",
    "      , plot_bgcolor=style[\"papercolor\"]\n",
    "    )\n",
    "    fig.update_xaxes(\n",
    "        showgrid=False, showticklabels=False, showline=False, visible=False\n",
    "    )\n",
    "    fig.update_yaxes(\n",
    "        showgrid=False, showticklabels=False, showline=False, visible=False\n",
    "    )\n",
    "    # Symbol number to choose to plot hexagons\n",
    "    symbol_number = 15\n",
    "\n",
    "    # Hex coordinates of the columns in the chosen neuropil\n",
    "    hex1_vals = np.array([range(1, 36)])\n",
    "    hex2_vals = np.array([range(1, 39)])\n",
    "    # Add empty white 'background' hexagons - all neuropils\n",
    "    fig.add_trace(\n",
    "        go.Scatter(\n",
    "            x=-1 * (hex1_vals - hex2_vals)\n",
    "          , y=hex1_vals + hex2_vals\n",
    "          , mode=\"markers\"\n",
    "          , marker_symbol=symbol_number\n",
    "          , marker={\n",
    "                \"size\": sizing[\"markersize\"]\n",
    "              , \"color\": \"white\"\n",
    "              , \"line\": {\"width\": sizing[\"markerlinewidth\"], \"color\": \"lightgrey\"}\n",
    "            }\n",
    "          , showlegend=False\n",
    "        )\n",
    "    )\n",
    "    # Add data from chosen column\n",
    "    fig.add_trace(\n",
    "        go.Scatter(\n",
    "            x=x_vals\n",
    "          , y=y_vals\n",
    "          , mode=\"markers\"\n",
    "          , marker_symbol=symbol_number\n",
    "          , marker={\n",
    "              #   \"cmin\": 0\n",
    "              # , \"cmax\": max_val\n",
    "              \"size\": sizing[\"markersize\"]\n",
    "              , \"color\": df.values\n",
    "              , \"line\": {\n",
    "                    \"width\": sizing[\"markerlinewidth\"]\n",
    "                  , \"color\": style[\"markerlinecolor\"]\n",
    "                }\n",
    "              , \"colorbar\": {\n",
    "                    \"orientation\": \"v\"\n",
    "                  , \"outlinecolor\": style[\"linecolor\"]\n",
    "                  , \"outlinewidth\": sizing[\"axislinewidth\"]\n",
    "                  , \"thickness\": sizing[\"cbar_thickness\"]\n",
    "                  , \"len\": sizing[\"cbar_len\"]\n",
    "                  , \"tickmode\": \"array\"\n",
    "                  # , \"tickvals\": tickvals\n",
    "                  # , \"ticktext\": tickvals_text\n",
    "                  , \"ticklen\": sizing[\"ticklen\"]\n",
    "                  , \"tickwidth\": sizing[\"tickwidth\"]\n",
    "                  , \"tickcolor\": style[\"linecolor\"]\n",
    "                  , \"tickfont\": {\n",
    "                        \"size\": fsize_ticks_px\n",
    "                      , \"family\": style[\"font_type\"]\n",
    "                      , \"color\": style[\"linecolor\"]\n",
    "                    }\n",
    "                  , \"title\": {\n",
    "                        \"font\": {\n",
    "                            \"family\": style[\"font_type\"]\n",
    "                          , \"size\": fsize_title_px\n",
    "                          , \"color\": style[\"linecolor\"]\n",
    "                        }\n",
    "                      , \"side\": \"right\"\n",
    "                    }\n",
    "                }\n",
    "              , \"colorscale\": 'reds_5'\n",
    "            }\n",
    "          , showlegend=False\n",
    "        )\n",
    "    )\n",
    "    return fig"
   ]
  },
  {
   "cell_type": "code",
   "execution_count": null,
   "metadata": {},
   "outputs": [],
   "source": [
    "fig = hex_plot_from_series(df_to_plot)"
   ]
  },
  {
   "cell_type": "code",
   "execution_count": null,
   "metadata": {},
   "outputs": [],
   "source": []
  },
  {
   "cell_type": "code",
   "execution_count": null,
   "metadata": {},
   "outputs": [],
   "source": [
    "meta"
   ]
  },
  {
   "cell_type": "code",
   "execution_count": null,
   "metadata": {},
   "outputs": [],
   "source": []
  },
  {
   "cell_type": "code",
   "execution_count": null,
   "metadata": {},
   "outputs": [],
   "source": []
  },
  {
   "cell_type": "code",
   "execution_count": null,
   "metadata": {},
   "outputs": [],
   "source": []
  }
 ],
 "metadata": {
  "kernelspec": {
   "display_name": "3.11.6",
   "language": "python",
   "name": "python3"
  },
  "language_info": {
   "codemirror_mode": {
    "name": "ipython",
    "version": 3
   },
   "file_extension": ".py",
   "mimetype": "text/x-python",
   "name": "python",
   "nbconvert_exporter": "python",
   "pygments_lexer": "ipython3",
   "version": "3.11.6"
  }
 },
 "nbformat": 4,
 "nbformat_minor": 2
}
